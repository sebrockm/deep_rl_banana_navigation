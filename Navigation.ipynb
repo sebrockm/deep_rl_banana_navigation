{
 "cells": [
  {
   "cell_type": "markdown",
   "metadata": {},
   "source": [
    "# Navigation\n",
    "\n",
    "---\n",
    "\n",
    "In this notebook, you will learn how to use the Unity ML-Agents environment for the first project of the [Deep Reinforcement Learning Nanodegree](https://www.udacity.com/course/deep-reinforcement-learning-nanodegree--nd893).\n",
    "\n",
    "### 1. Start the Environment\n",
    "\n",
    "We begin by importing some necessary packages.  If the code cell below returns an error, please revisit the project instructions to double-check that you have installed [Unity ML-Agents](https://github.com/Unity-Technologies/ml-agents/blob/master/docs/Installation.md) and [NumPy](http://www.numpy.org/)."
   ]
  },
  {
   "cell_type": "code",
   "execution_count": null,
   "metadata": {},
   "outputs": [],
   "source": [
    "from unityagents import UnityEnvironment\n",
    "import numpy as np"
   ]
  },
  {
   "cell_type": "markdown",
   "metadata": {},
   "source": [
    "Next, we will start the environment!  **_Before running the code cell below_**, change the `file_name` parameter to match the location of the Unity environment that you downloaded.\n",
    "\n",
    "- **Mac**: `\"path/to/Banana.app\"`\n",
    "- **Windows** (x86): `\"path/to/Banana_Windows_x86/Banana.exe\"`\n",
    "- **Windows** (x86_64): `\"path/to/Banana_Windows_x86_64/Banana.exe\"`\n",
    "- **Linux** (x86): `\"path/to/Banana_Linux/Banana.x86\"`\n",
    "- **Linux** (x86_64): `\"path/to/Banana_Linux/Banana.x86_64\"`\n",
    "- **Linux** (x86, headless): `\"path/to/Banana_Linux_NoVis/Banana.x86\"`\n",
    "- **Linux** (x86_64, headless): `\"path/to/Banana_Linux_NoVis/Banana.x86_64\"`\n",
    "\n",
    "For instance, if you are using a Mac, then you downloaded `Banana.app`.  If this file is in the same folder as the notebook, then the line below should appear as follows:\n",
    "```\n",
    "env = UnityEnvironment(file_name=\"Banana.app\")\n",
    "```"
   ]
  },
  {
   "cell_type": "code",
   "execution_count": null,
   "metadata": {},
   "outputs": [],
   "source": [
    "env = UnityEnvironment(file_name=\"Banana_Windows_x86_64/Banana.exe\")"
   ]
  },
  {
   "cell_type": "markdown",
   "metadata": {},
   "source": [
    "Environments contain **_brains_** which are responsible for deciding the actions of their associated agents. Here we check for the first brain available, and set it as the default brain we will be controlling from Python."
   ]
  },
  {
   "cell_type": "code",
   "execution_count": null,
   "metadata": {},
   "outputs": [],
   "source": [
    "# get the default brain\n",
    "brain_name = env.brain_names[0]\n",
    "brain = env.brains[brain_name]"
   ]
  },
  {
   "cell_type": "markdown",
   "metadata": {},
   "source": [
    "### 2. Examine the State and Action Spaces\n",
    "\n",
    "The simulation contains a single agent that navigates a large environment.  At each time step, it has four actions at its disposal:\n",
    "- `0` - walk forward \n",
    "- `1` - walk backward\n",
    "- `2` - turn left\n",
    "- `3` - turn right\n",
    "\n",
    "The state space has `37` dimensions and contains the agent's velocity, along with ray-based perception of objects around agent's forward direction.  A reward of `+1` is provided for collecting a yellow banana, and a reward of `-1` is provided for collecting a blue banana. \n",
    "\n",
    "Run the code cell below to print some information about the environment."
   ]
  },
  {
   "cell_type": "code",
   "execution_count": null,
   "metadata": {},
   "outputs": [],
   "source": [
    "# reset the environment\n",
    "env_info = env.reset(train_mode=True)[brain_name]\n",
    "\n",
    "# number of agents in the environment\n",
    "print('Number of agents:', len(env_info.agents))\n",
    "\n",
    "# number of actions\n",
    "action_size = brain.vector_action_space_size\n",
    "print('Number of actions:', action_size)\n",
    "\n",
    "# examine the state space \n",
    "state = env_info.vector_observations[0]\n",
    "print('States look like:', state)\n",
    "state_size = len(state)\n",
    "print('States have length:', state_size)"
   ]
  },
  {
   "cell_type": "markdown",
   "metadata": {},
   "source": [
    "### 3. Determine if GPU can be used\n",
    "\n",
    "If CUDA is available, this will speed up the learning process."
   ]
  },
  {
   "cell_type": "code",
   "execution_count": null,
   "metadata": {},
   "outputs": [],
   "source": [
    "import torch\n",
    "device = torch.device(\"cuda:0\" if torch.cuda.is_available() else \"cpu\")\n",
    "print(device)\n",
    "\n",
    "seed = 42"
   ]
  },
  {
   "cell_type": "markdown",
   "metadata": {},
   "source": [
    "### 4. Define neural network used as an approximation for the Q-table\n",
    "\n",
    "The neural network defined below has consists of a GRU layer followed by two fully connected layers. It uses RelU actication and dropout.\n"
   ]
  },
  {
   "cell_type": "code",
   "execution_count": null,
   "metadata": {},
   "outputs": [],
   "source": [
    "import torch.nn as nn\n",
    "import torch.nn.functional as F\n",
    "\n",
    "class QNetwork(nn.Module):\n",
    "    def __init__(self, state_size, action_size, seed):\n",
    "        \"\"\"Initialize parameters and build model.\n",
    "        Params\n",
    "        ======\n",
    "            state_size (int): Dimension of each state\n",
    "            action_size (int): Dimension of each action\n",
    "            seed (int): Random seed\n",
    "        \"\"\"\n",
    "        super(QNetwork, self).__init__()\n",
    "        self.seed = torch.manual_seed(seed)\n",
    "        \n",
    "        self.gru_hidden_dim = 100\n",
    "        self.hidden_dim = 150\n",
    "        \n",
    "        self.gru = nn.GRU(input_size=state_size, hidden_size=self.gru_hidden_dim, batch_first=True)\n",
    "        self.lin1 = nn.Linear(self.gru_hidden_dim, self.hidden_dim)\n",
    "        self.dropout = nn.Dropout(p=0.2)\n",
    "        self.lin2 = nn.Linear(self.hidden_dim, action_size)\n",
    "\n",
    "    def forward(self, state):\n",
    "        \"\"\"Build a network that maps state -> action values.\"\"\"\n",
    "        x= F.relu(self.gru(input=state)[0])\n",
    "        x = x[:, -1, :] # keep only last entry of sequence dim\n",
    "        x = self.dropout(x)\n",
    "        x = F.relu(self.lin1(x))\n",
    "        x = self.dropout(x)\n",
    "        return self.lin2(x)"
   ]
  },
  {
   "cell_type": "markdown",
   "metadata": {},
   "source": [
    "### 5. Define some hyper parameters\n",
    "In the following cell we define hyper parmeters and constants for the learning algorithm."
   ]
  },
  {
   "cell_type": "code",
   "execution_count": null,
   "metadata": {},
   "outputs": [],
   "source": [
    "n_episodes = 2000\n",
    "max_timesteps = 1000\n",
    "replay_buffer_size = 10000\n",
    "batch_size = 64\n",
    "gamma = 0.995\n",
    "update_every = 5\n",
    "learning_rate = 0.001\n",
    "tau = 0.001\n",
    "rnn_seq_length = 30 # one state consists of 30 consecutive time frames\n",
    "epsilon_end = 0.01\n",
    "epsilon_decay = 0.995\n",
    "\n",
    "checkpoint_file = 'banana_dqn_checkpoint.pth'\n",
    "target_score = 13.0"
   ]
  },
  {
   "cell_type": "markdown",
   "metadata": {},
   "source": [
    "### 6. The algorithm"
   ]
  },
  {
   "cell_type": "code",
   "execution_count": null,
   "metadata": {},
   "outputs": [],
   "source": [
    "local_network = QNetwork(state_size, action_size, seed).to(device)\n",
    "target_network = QNetwork(state_size, action_size, seed).to(device)\n",
    "optimizer = torch.optim.Adam(local_network.parameters(), lr=learning_rate)\n",
    "\n",
    "from collections import deque\n",
    "import random\n",
    "memory = deque(maxlen=replay_buffer_size) # stores (s,a,r,s',d) tuples   \n",
    "\n",
    "scores = []\n",
    "scores_window = deque(maxlen=100)\n",
    "epsilon = 1.0\n",
    "solved = False\n",
    "\n",
    "for episode in range(1, 1 + n_episodes):\n",
    "    env_info = env.reset(train_mode=True)[brain_name]\n",
    "    \n",
    "    state = np.zeros((rnn_seq_length, state_size))\n",
    "    state[-1] = env_info.vector_observations[0]\n",
    "    \n",
    "    score = 0\n",
    "    for t in range(1, 1 + max_timesteps):\n",
    "        \n",
    "        # choose action via epsilon greedy\n",
    "        if random.random() > epsilon:\n",
    "            torch_state = torch.from_numpy(state).float().unsqueeze(0).to(device)\n",
    "            torch_state.requires_grad = False\n",
    "            local_network.eval()\n",
    "            with torch.no_grad():\n",
    "                action_values = local_network(torch_state)\n",
    "            local_network.train()\n",
    "            action = np.argmax(action_values.cpu().data.numpy())\n",
    "        else:\n",
    "            action = random.choice(np.arange(action_size))\n",
    "        \n",
    "        # apply action in environment\n",
    "        env_info = env.step(action)[brain_name]\n",
    "        \n",
    "        next_state = np.zeros_like(state)\n",
    "        next_state[:-1] = state[1:]\n",
    "        next_state[-1] = env_info.vector_observations[0]   \n",
    "        reward = env_info.rewards[0]  \n",
    "        done = env_info.local_done[0]\n",
    "        \n",
    "        # apply action on agent:\n",
    "        memory.append((state, action, reward, next_state, done))# remember experience\n",
    "        \n",
    "        if t % update_every == 0 and len(memory) >= batch_size: # do not always learn\n",
    "            samples = random.sample(memory, k=batch_size) # sample from memory          \n",
    "            states, actions, rewards, next_states, dones = zip(*samples)\n",
    "            \n",
    "            states = torch.from_numpy(np.array(states)).float().to(device)\n",
    "            actions = torch.from_numpy(np.array(actions)).long().to(device)\n",
    "            rewards = torch.from_numpy(np.array(rewards)).float().to(device)\n",
    "            next_states = torch.from_numpy(np.array(next_states)).float().to(device)\n",
    "            dones = torch.from_numpy(np.array(dones, dtype='uint8')).float().to(device)\n",
    "            \n",
    "            next_targets = target_network(next_states).detach().max(1)[0] # max Q values for next state\n",
    "            targets = rewards + (gamma * next_targets * (1 - dones)) # Q values for current state\n",
    "            \n",
    "            expected = local_network(states)\n",
    "            expected = expected.gather(1, actions.unsqueeze(1)).squeeze(1) # expected Q values from local model\n",
    "            \n",
    "            loss = F.mse_loss(expected, targets)\n",
    "            optimizer.zero_grad()\n",
    "            loss.backward()\n",
    "            optimizer.step()\n",
    "            \n",
    "            # update target network with tau interpolation\n",
    "            for t_param, l_param in zip(target_network.parameters(), local_network.parameters()):\n",
    "                t_param.data.copy_(tau * l_param.data + (1.0 - tau) * t_param.data)\n",
    "        \n",
    "        score += reward\n",
    "        state = next_state\n",
    "        if done:                                       \n",
    "            break\n",
    "\n",
    "    scores.append(score)\n",
    "    scores_window.append(score)\n",
    "    epsilon = max(epsilon_end, epsilon * epsilon_decay)\n",
    "    \n",
    "    avg_score = np.mean(scores_window)\n",
    "    if avg_score > target_score:\n",
    "        torch.save(local_network.state_dict(), checkpoint_file)\n",
    "        np.save('scores13.npy', np.array(scores))\n",
    "        if episode > 100 and not solved:\n",
    "            solved = True\n",
    "            print('\\nEnvironment solved in {:d} episodes!\\tAverage Score: {:.2f}'.format(episode, np.mean(scores_window)))\n",
    "\n",
    "    print('\\rEpisode {}\\tAverage Score: {:.2f}'.format(episode, np.mean(scores_window)), end=\"\")\n",
    "    if episode % 100 == 0:\n",
    "        print('\\rEpisode {}\\tAverage Score: {:.2f}'.format(episode, np.mean(scores_window)))\n",
    "        \n",
    "env.close()"
   ]
  },
  {
   "cell_type": "markdown",
   "metadata": {},
   "source": [
    "### 7. Plot the score history"
   ]
  },
  {
   "cell_type": "code",
   "execution_count": null,
   "metadata": {},
   "outputs": [],
   "source": [
    "import matplotlib.pyplot as plt\n",
    "\n",
    "means = []\n",
    "for i in range(100, len(scores)):\n",
    "    means.append([i, np.mean(scores[i-100:i])])\n",
    "means = np.array(means)\n",
    "plt.figure(figsize=(10, 6))\n",
    "plt.plot(scores ,'.')\n",
    "plt.plot(means[:, 0],means[:, 1],'r')\n",
    "plt.grid()\n",
    "plt.xlabel('Episode')\n",
    "plt.ylabel('Score')\n",
    "plt.title('basic banana scores')\n",
    "plt.legend(['Episode Score', '100 Episode Averge Score'])"
   ]
  }
 ],
 "metadata": {
  "kernelspec": {
   "display_name": "drlnd",
   "language": "python",
   "name": "drlnd"
  },
  "language_info": {
   "codemirror_mode": {
    "name": "ipython",
    "version": 3
   },
   "file_extension": ".py",
   "mimetype": "text/x-python",
   "name": "python",
   "nbconvert_exporter": "python",
   "pygments_lexer": "ipython3",
   "version": "3.6.8"
  }
 },
 "nbformat": 4,
 "nbformat_minor": 2
}
